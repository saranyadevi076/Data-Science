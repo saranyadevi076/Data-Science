{
  "nbformat": 4,
  "nbformat_minor": 0,
  "metadata": {
    "colab": {
      "name": "LOGICAL OPERATOR.ipynb",
      "provenance": [],
      "authorship_tag": "ABX9TyNLwHZJG6QiaA3MmmCx6uoj",
      "include_colab_link": true
    },
    "kernelspec": {
      "name": "python3",
      "display_name": "Python 3"
    },
    "language_info": {
      "name": "python"
    }
  },
  "cells": [
    {
      "cell_type": "markdown",
      "metadata": {
        "id": "view-in-github",
        "colab_type": "text"
      },
      "source": [
        "<a href=\"https://colab.research.google.com/github/saranyadevi076/Data-Science/blob/main/LOGICAL_OPERATOR.ipynb\" target=\"_parent\"><img src=\"https://colab.research.google.com/assets/colab-badge.svg\" alt=\"Open In Colab\"/></a>"
      ]
    },
    {
      "cell_type": "code",
      "metadata": {
        "colab": {
          "base_uri": "https://localhost:8080/"
        },
        "id": "tcXm_A7lXXIN",
        "outputId": "c1adfe02-1c84-4973-d0ea-74ef9e3e4b15"
      },
      "source": [
        "#### Logical operator (AND OR NOT)\n",
        "x=5\n",
        "print(x>4 and x<10)\n"
      ],
      "execution_count": null,
      "outputs": [
        {
          "output_type": "stream",
          "name": "stdout",
          "text": [
            "True\n"
          ]
        }
      ]
    },
    {
      "cell_type": "code",
      "metadata": {
        "colab": {
          "base_uri": "https://localhost:8080/"
        },
        "id": "i2qBvgiSX3C4",
        "outputId": "69f1e02e-b8a7-407e-de8b-015375ddf712"
      },
      "source": [
        "x=5\n",
        "print(x>5 and x<5)\n"
      ],
      "execution_count": null,
      "outputs": [
        {
          "output_type": "stream",
          "name": "stdout",
          "text": [
            "False\n"
          ]
        }
      ]
    },
    {
      "cell_type": "code",
      "metadata": {
        "colab": {
          "base_uri": "https://localhost:8080/"
        },
        "id": "c7F76tISX-MR",
        "outputId": "6804c258-a794-4598-a2e4-7f7e504b3e2d"
      },
      "source": [
        "x=5 \n",
        "print(x>4 or x>10)"
      ],
      "execution_count": null,
      "outputs": [
        {
          "output_type": "stream",
          "name": "stdout",
          "text": [
            "True\n"
          ]
        }
      ]
    },
    {
      "cell_type": "code",
      "metadata": {
        "colab": {
          "base_uri": "https://localhost:8080/"
        },
        "id": "Rztja6vbYG6n",
        "outputId": "f3f876db-697e-48b6-a584-b323637958bb"
      },
      "source": [
        "x=5\n",
        "print (not(x<6)) "
      ],
      "execution_count": null,
      "outputs": [
        {
          "output_type": "stream",
          "name": "stdout",
          "text": [
            "False\n"
          ]
        }
      ]
    }
  ]
}
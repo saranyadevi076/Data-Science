{
  "nbformat": 4,
  "nbformat_minor": 0,
  "metadata": {
    "colab": {
      "name": "SEP-12-DICT.ipynb",
      "provenance": [],
      "authorship_tag": "ABX9TyPPrOWdpoGU72stpXuew1t8",
      "include_colab_link": true
    },
    "kernelspec": {
      "name": "python3",
      "display_name": "Python 3"
    },
    "language_info": {
      "name": "python"
    }
  },
  "cells": [
    {
      "cell_type": "markdown",
      "metadata": {
        "id": "view-in-github",
        "colab_type": "text"
      },
      "source": [
        "<a href=\"https://colab.research.google.com/github/saranyadevi076/Data-Science/blob/main/SEP_12_DICT.ipynb\" target=\"_parent\"><img src=\"https://colab.research.google.com/assets/colab-badge.svg\" alt=\"Open In Colab\"/></a>"
      ]
    },
    {
      "cell_type": "markdown",
      "metadata": {
        "id": "_yNSJ7C8pajh"
      },
      "source": [
        "### DICTIONAY\n",
        "1. Dict also represents using curly brackets {}\n",
        "2. Dict are  made up pf keys and values\n",
        "3. Keys should be unique\n",
        "2. Dict is mutable\n",
        "\n",
        "\n"
      ]
    },
    {
      "cell_type": "code",
      "metadata": {
        "colab": {
          "base_uri": "https://localhost:8080/"
        },
        "id": "J505xTzVpwSM",
        "outputId": "ce1f9411-b933-4070-d454-29e67794983f"
      },
      "source": [
        "dict1 ={\n",
        "    'name': 'devi',\n",
        "    'age' : 30,\n",
        "    'height' : 153,\n",
        "    'weight' : 53\n",
        "}\n",
        "type(dict1)"
      ],
      "execution_count": 3,
      "outputs": [
        {
          "output_type": "execute_result",
          "data": {
            "text/plain": [
              "dict"
            ]
          },
          "metadata": {},
          "execution_count": 3
        }
      ]
    },
    {
      "cell_type": "code",
      "metadata": {
        "colab": {
          "base_uri": "https://localhost:8080/"
        },
        "id": "INunhkp9qXTM",
        "outputId": "2bb92890-fa02-411b-bf3f-dd7975d4adbc"
      },
      "source": [
        "dict1.keys()  ### to display the keys"
      ],
      "execution_count": 4,
      "outputs": [
        {
          "output_type": "execute_result",
          "data": {
            "text/plain": [
              "dict_keys(['name', 'age', 'height', 'weight'])"
            ]
          },
          "metadata": {},
          "execution_count": 4
        }
      ]
    },
    {
      "cell_type": "code",
      "metadata": {
        "colab": {
          "base_uri": "https://localhost:8080/"
        },
        "id": "OXmMVKajqcUI",
        "outputId": "b3da775f-3e4f-4cb2-9d2d-daddcc05f265"
      },
      "source": [
        "dict1.values()  ### to display the values"
      ],
      "execution_count": 5,
      "outputs": [
        {
          "output_type": "execute_result",
          "data": {
            "text/plain": [
              "dict_values(['devi', 30, 153, 53])"
            ]
          },
          "metadata": {},
          "execution_count": 5
        }
      ]
    },
    {
      "cell_type": "code",
      "metadata": {
        "colab": {
          "base_uri": "https://localhost:8080/"
        },
        "id": "P4TPKAhlqjh8",
        "outputId": "29715143-35e2-4a69-9e28-29e3e9ca3881"
      },
      "source": [
        "dict1['age']"
      ],
      "execution_count": 6,
      "outputs": [
        {
          "output_type": "execute_result",
          "data": {
            "text/plain": [
              "30"
            ]
          },
          "metadata": {},
          "execution_count": 6
        }
      ]
    },
    {
      "cell_type": "code",
      "metadata": {
        "colab": {
          "base_uri": "https://localhost:8080/"
        },
        "id": "66iKuaNhqxQ6",
        "outputId": "e3074615-88de-4b03-dedb-fe511f6d9c43"
      },
      "source": [
        "dict2 ={\n",
        "    'name':\"liya\",\n",
        "    'age': 1.2,\n",
        "    'gender':'m'\n",
        "}\n",
        "dict2"
      ],
      "execution_count": 9,
      "outputs": [
        {
          "output_type": "execute_result",
          "data": {
            "text/plain": [
              "{'age': 1.2, 'gender': 'm', 'name': 'liya'}"
            ]
          },
          "metadata": {},
          "execution_count": 9
        }
      ]
    },
    {
      "cell_type": "code",
      "metadata": {
        "colab": {
          "base_uri": "https://localhost:8080/"
        },
        "id": "whrNVzrwrFlm",
        "outputId": "dce773e2-de6a-45c3-d6cd-684b7b9fc5a1"
      },
      "source": [
        "dict2['gender']='f'  #### Dict is mutable\n",
        "print(dict2)"
      ],
      "execution_count": 13,
      "outputs": [
        {
          "output_type": "stream",
          "name": "stdout",
          "text": [
            "{'name': 'liya', 'age': 1.2, 'gender': 'f'}\n"
          ]
        }
      ]
    },
    {
      "cell_type": "code",
      "metadata": {
        "id": "SNQSD7sArisc"
      },
      "source": [
        ""
      ],
      "execution_count": null,
      "outputs": []
    }
  ]
}
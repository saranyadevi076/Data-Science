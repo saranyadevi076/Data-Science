{
  "nbformat": 4,
  "nbformat_minor": 0,
  "metadata": {
    "colab": {
      "name": "SEP-12-DICT.ipynb",
      "provenance": [],
      "collapsed_sections": [],
      "authorship_tag": "ABX9TyPG/2CDJJ6Rsl9iNBB8JWw6",
      "include_colab_link": true
    },
    "kernelspec": {
      "name": "python3",
      "display_name": "Python 3"
    },
    "language_info": {
      "name": "python"
    }
  },
  "cells": [
    {
      "cell_type": "markdown",
      "metadata": {
        "id": "view-in-github",
        "colab_type": "text"
      },
      "source": [
        "<a href=\"https://colab.research.google.com/github/saranyadevi076/Data-Science/blob/main/SEP_12_DICT.ipynb\" target=\"_parent\"><img src=\"https://colab.research.google.com/assets/colab-badge.svg\" alt=\"Open In Colab\"/></a>"
      ]
    },
    {
      "cell_type": "markdown",
      "metadata": {
        "id": "_yNSJ7C8pajh"
      },
      "source": [
        "### DICTIONAY\n",
        "1. Dict also represents using curly brackets {}\n",
        "2. Dict are  made up pf keys and values\n",
        "3. Keys should be unique\n",
        "4. Dict is mutable\n",
        "5. Values can be duplicate\n",
        "\n"
      ]
    },
    {
      "cell_type": "code",
      "metadata": {
        "colab": {
          "base_uri": "https://localhost:8080/"
        },
        "id": "J505xTzVpwSM",
        "outputId": "ce1f9411-b933-4070-d454-29e67794983f"
      },
      "source": [
        "dict1 ={\n",
        "    'name': 'devi',\n",
        "    'age' : 30,\n",
        "    'height' : 153,\n",
        "    'weight' : 53\n",
        "}\n",
        "type(dict1)"
      ],
      "execution_count": null,
      "outputs": [
        {
          "output_type": "execute_result",
          "data": {
            "text/plain": [
              "dict"
            ]
          },
          "metadata": {},
          "execution_count": 3
        }
      ]
    },
    {
      "cell_type": "code",
      "metadata": {
        "colab": {
          "base_uri": "https://localhost:8080/"
        },
        "id": "INunhkp9qXTM",
        "outputId": "2bb92890-fa02-411b-bf3f-dd7975d4adbc"
      },
      "source": [
        "dict1.keys()  ### to display the keys"
      ],
      "execution_count": null,
      "outputs": [
        {
          "output_type": "execute_result",
          "data": {
            "text/plain": [
              "dict_keys(['name', 'age', 'height', 'weight'])"
            ]
          },
          "metadata": {},
          "execution_count": 4
        }
      ]
    },
    {
      "cell_type": "code",
      "metadata": {
        "colab": {
          "base_uri": "https://localhost:8080/"
        },
        "id": "OXmMVKajqcUI",
        "outputId": "b3da775f-3e4f-4cb2-9d2d-daddcc05f265"
      },
      "source": [
        "dict1.values()  ### to display the values"
      ],
      "execution_count": null,
      "outputs": [
        {
          "output_type": "execute_result",
          "data": {
            "text/plain": [
              "dict_values(['devi', 30, 153, 53])"
            ]
          },
          "metadata": {},
          "execution_count": 5
        }
      ]
    },
    {
      "cell_type": "code",
      "metadata": {
        "colab": {
          "base_uri": "https://localhost:8080/"
        },
        "id": "P4TPKAhlqjh8",
        "outputId": "29715143-35e2-4a69-9e28-29e3e9ca3881"
      },
      "source": [
        "dict1['age']"
      ],
      "execution_count": null,
      "outputs": [
        {
          "output_type": "execute_result",
          "data": {
            "text/plain": [
              "30"
            ]
          },
          "metadata": {},
          "execution_count": 6
        }
      ]
    },
    {
      "cell_type": "code",
      "metadata": {
        "colab": {
          "base_uri": "https://localhost:8080/"
        },
        "id": "66iKuaNhqxQ6",
        "outputId": "e3074615-88de-4b03-dedb-fe511f6d9c43"
      },
      "source": [
        "dict2 ={\n",
        "    'name':\"liya\",\n",
        "    'age': 1.2,\n",
        "    'gender':'m'\n",
        "}\n",
        "dict2"
      ],
      "execution_count": null,
      "outputs": [
        {
          "output_type": "execute_result",
          "data": {
            "text/plain": [
              "{'age': 1.2, 'gender': 'm', 'name': 'liya'}"
            ]
          },
          "metadata": {},
          "execution_count": 9
        }
      ]
    },
    {
      "cell_type": "code",
      "metadata": {
        "colab": {
          "base_uri": "https://localhost:8080/"
        },
        "id": "whrNVzrwrFlm",
        "outputId": "dce773e2-de6a-45c3-d6cd-684b7b9fc5a1"
      },
      "source": [
        "dict2['gender']='f'  #### Dict is mutable\n",
        "print(dict2)"
      ],
      "execution_count": null,
      "outputs": [
        {
          "output_type": "stream",
          "name": "stdout",
          "text": [
            "{'name': 'liya', 'age': 1.2, 'gender': 'f'}\n"
          ]
        }
      ]
    },
    {
      "cell_type": "code",
      "metadata": {
        "id": "SNQSD7sArisc",
        "colab": {
          "base_uri": "https://localhost:8080/"
        },
        "outputId": "5837b31f-676a-4de0-edb0-b76593c6dbf7"
      },
      "source": [
        "stud ={0:\"priya\",1:\"liya\",2:\"moni\",3:\"saran\"}  ## Dict will have keys and values\n",
        "print(stud)"
      ],
      "execution_count": 2,
      "outputs": [
        {
          "output_type": "stream",
          "name": "stdout",
          "text": [
            "{0: 'priya', 1: 'liya', 2: 'moni', 3: 'saran'}\n"
          ]
        }
      ]
    },
    {
      "cell_type": "code",
      "metadata": {
        "colab": {
          "base_uri": "https://localhost:8080/"
        },
        "id": "qdg3zzKqixjK",
        "outputId": "0e559ee5-5ceb-4ad5-c022-9074c83e0a46"
      },
      "source": [
        "stud1 ={\"s1\":\"priya\",\"s2\":\"liya\",\"s3\":\"moni\",\"s4\":\"saran\"}  ## Dict will have keys which can be string also\n",
        "print(stud1)"
      ],
      "execution_count": 4,
      "outputs": [
        {
          "output_type": "stream",
          "name": "stdout",
          "text": [
            "{'s1': 'priya', 's2': 'liya', 's3': 'moni', 's4': 'saran'}\n"
          ]
        }
      ]
    },
    {
      "cell_type": "code",
      "metadata": {
        "colab": {
          "base_uri": "https://localhost:8080/",
          "height": 35
        },
        "id": "akrM4r8bgQJF",
        "outputId": "fbcc12b5-64db-4861-d1cd-f19969e710ea"
      },
      "source": [
        "### fetch using key values\n",
        "stud[1]"
      ],
      "execution_count": 3,
      "outputs": [
        {
          "output_type": "execute_result",
          "data": {
            "application/vnd.google.colaboratory.intrinsic+json": {
              "type": "string"
            },
            "text/plain": [
              "'liya'"
            ]
          },
          "metadata": {},
          "execution_count": 3
        }
      ]
    },
    {
      "cell_type": "code",
      "metadata": {
        "colab": {
          "base_uri": "https://localhost:8080/"
        },
        "id": "KZqbXsBnjAZP",
        "outputId": "5469bfdb-4e44-4ee5-859e-37c311f88fb6"
      },
      "source": [
        "### Replace the values using key\n",
        "stud1[\"s3\"]=\"devi\"\n",
        "stud1"
      ],
      "execution_count": 5,
      "outputs": [
        {
          "output_type": "execute_result",
          "data": {
            "text/plain": [
              "{'s1': 'priya', 's2': 'liya', 's3': 'devi', 's4': 'saran'}"
            ]
          },
          "metadata": {},
          "execution_count": 5
        }
      ]
    },
    {
      "cell_type": "code",
      "metadata": {
        "colab": {
          "base_uri": "https://localhost:8080/"
        },
        "id": "bIhsfFjjjq1a",
        "outputId": "568d6760-31db-4a6a-e36a-ab974fc9fd0e"
      },
      "source": [
        "### Adding the new\n",
        "stud1[\"s5\"]=\"siva\"\n",
        "print(stud1)"
      ],
      "execution_count": 6,
      "outputs": [
        {
          "output_type": "stream",
          "name": "stdout",
          "text": [
            "{'s1': 'priya', 's2': 'liya', 's3': 'devi', 's4': 'saran', 's5': 'siva'}\n"
          ]
        }
      ]
    },
    {
      "cell_type": "code",
      "metadata": {
        "colab": {
          "base_uri": "https://localhost:8080/"
        },
        "id": "azQ8NG-mj4nY",
        "outputId": "f5519b6f-6a1b-4ac2-f0cc-6f9dd55e30cd"
      },
      "source": [
        "### Deleting an item from dict is using pop,popitem,del methods\n",
        "### pop - delete the item with the key specified\n",
        "### popitem -- delete the last item from the list\n",
        "stud1 ={\"s1\":\"priya\",\"s2\":\"liya\",\"s3\":\"moni\",\"s4\":\"saran\",\"s5\":\"saran\"}  ### Key is unique and value can be duplicate(Eg 2 saran)\n",
        "stud1.pop(\"s3\")  ###Deleting the s3=moni and will print the remaining\n",
        "stud1"
      ],
      "execution_count": 11,
      "outputs": [
        {
          "output_type": "execute_result",
          "data": {
            "text/plain": [
              "{'s1': 'priya', 's2': 'liya', 's4': 'saran', 's5': 'saran'}"
            ]
          },
          "metadata": {},
          "execution_count": 11
        }
      ]
    }
  ]
}
{
  "nbformat": 4,
  "nbformat_minor": 0,
  "metadata": {
    "colab": {
      "name": "ARITHMETIC OPERATOR.ipynb",
      "provenance": [],
      "collapsed_sections": [],
      "authorship_tag": "ABX9TyP6ddQFaXooLxkyfI0IFz6O",
      "include_colab_link": true
    },
    "kernelspec": {
      "name": "python3",
      "display_name": "Python 3"
    },
    "language_info": {
      "name": "python"
    }
  },
  "cells": [
    {
      "cell_type": "markdown",
      "metadata": {
        "id": "view-in-github",
        "colab_type": "text"
      },
      "source": [
        "<a href=\"https://colab.research.google.com/github/saranyadevi076/Data-Science/blob/main/ARITHMETIC_OPERATOR.ipynb\" target=\"_parent\"><img src=\"https://colab.research.google.com/assets/colab-badge.svg\" alt=\"Open In Colab\"/></a>"
      ]
    },
    {
      "cell_type": "code",
      "metadata": {
        "colab": {
          "base_uri": "https://localhost:8080/"
        },
        "id": "5WQXgG0wil7E",
        "outputId": "c7c92718-0460-4c06-ea07-c4e38e7d4e18"
      },
      "source": [
        "x=10\n",
        "y=20\n",
        "sum = x+y\n",
        "print(sum)\n",
        "\n"
      ],
      "execution_count": null,
      "outputs": [
        {
          "output_type": "stream",
          "name": "stdout",
          "text": [
            "30\n"
          ]
        }
      ]
    },
    {
      "cell_type": "code",
      "metadata": {
        "colab": {
          "base_uri": "https://localhost:8080/"
        },
        "id": "p4BzQC9LjRNZ",
        "outputId": "d8e69e57-2788-45fa-b235-0e153fc11004"
      },
      "source": [
        "subtract=y-x\n",
        "subtract"
      ],
      "execution_count": null,
      "outputs": [
        {
          "output_type": "execute_result",
          "data": {
            "text/plain": [
              "10"
            ]
          },
          "metadata": {},
          "execution_count": 5
        }
      ]
    },
    {
      "cell_type": "code",
      "metadata": {
        "colab": {
          "base_uri": "https://localhost:8080/"
        },
        "id": "KZ1Kjjd7jZfB",
        "outputId": "3caeaa34-44d3-440e-e13e-341e4a6d2907"
      },
      "source": [
        "product = x*y\n",
        "product"
      ],
      "execution_count": null,
      "outputs": [
        {
          "output_type": "execute_result",
          "data": {
            "text/plain": [
              "200"
            ]
          },
          "metadata": {},
          "execution_count": 6
        }
      ]
    },
    {
      "cell_type": "code",
      "metadata": {
        "colab": {
          "base_uri": "https://localhost:8080/"
        },
        "id": "3lDaiN9pjeS0",
        "outputId": "51664dc6-0964-4346-9521-d17e39b1d90e"
      },
      "source": [
        "div = x/y\n",
        "print(div)"
      ],
      "execution_count": null,
      "outputs": [
        {
          "output_type": "stream",
          "name": "stdout",
          "text": [
            "0.5\n"
          ]
        }
      ]
    },
    {
      "cell_type": "code",
      "metadata": {
        "colab": {
          "base_uri": "https://localhost:8080/"
        },
        "id": "AjczDDHcjw-O",
        "outputId": "d357bb3f-ab0c-4047-97ad-fd4df99697fb"
      },
      "source": [
        "mod = x%y #### Give the remainder \n",
        "print(mod)"
      ],
      "execution_count": null,
      "outputs": [
        {
          "output_type": "stream",
          "name": "stdout",
          "text": [
            "10\n"
          ]
        }
      ]
    },
    {
      "cell_type": "code",
      "metadata": {
        "colab": {
          "base_uri": "https://localhost:8080/"
        },
        "id": "ffwA0__kj8ia",
        "outputId": "72b70514-2776-4917-a82c-fe6373000c9e"
      },
      "source": [
        "x=2\n",
        "y=3\n",
        "expo=x**y\n",
        "print(expo)"
      ],
      "execution_count": null,
      "outputs": [
        {
          "output_type": "stream",
          "name": "stdout",
          "text": [
            "8\n"
          ]
        }
      ]
    },
    {
      "cell_type": "code",
      "metadata": {
        "colab": {
          "base_uri": "https://localhost:8080/"
        },
        "id": "TCbVh61NWeDD",
        "outputId": "dc79d2f4-b8c2-4d9f-b4fb-e51d40bdf906"
      },
      "source": [
        "x=4   ##### Only give the quotient without the decimal\n",
        "y=3\n",
        "floor=x//y\n",
        "print(floor)"
      ],
      "execution_count": null,
      "outputs": [
        {
          "output_type": "stream",
          "name": "stdout",
          "text": [
            "1\n"
          ]
        }
      ]
    }
  ]
}
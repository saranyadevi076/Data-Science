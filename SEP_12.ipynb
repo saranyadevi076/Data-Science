{
  "nbformat": 4,
  "nbformat_minor": 0,
  "metadata": {
    "colab": {
      "name": "SEP-12.ipynb",
      "provenance": [],
      "collapsed_sections": [],
      "authorship_tag": "ABX9TyO8mDJUmK7i6S/BKErhk2mt",
      "include_colab_link": true
    },
    "kernelspec": {
      "name": "python3",
      "display_name": "Python 3"
    },
    "language_info": {
      "name": "python"
    }
  },
  "cells": [
    {
      "cell_type": "markdown",
      "metadata": {
        "id": "view-in-github",
        "colab_type": "text"
      },
      "source": [
        "<a href=\"https://colab.research.google.com/github/saranyadevi076/Data-Science/blob/main/SEP_12.ipynb\" target=\"_parent\"><img src=\"https://colab.research.google.com/assets/colab-badge.svg\" alt=\"Open In Colab\"/></a>"
      ]
    },
    {
      "cell_type": "markdown",
      "metadata": {
        "id": "uRIlMuQMoDvc"
      },
      "source": [
        "\n",
        "\n",
        "```\n",
        "# data type\n",
        "\n",
        "1.   Integer\n",
        "2.   String\n",
        "3.   Float\n",
        "4.   Bool\n",
        "5.   List,tuple,set,frozenset\n",
        "6.   Dict\n",
        "7.   complex \n",
        "\n",
        "\n",
        "```\n",
        "\n"
      ]
    },
    {
      "cell_type": "code",
      "metadata": {
        "id": "4CoRV5zyofxB"
      },
      "source": [
        "##LIST TUPLE DICTONARY SET\n"
      ],
      "execution_count": null,
      "outputs": []
    }
  ]
}
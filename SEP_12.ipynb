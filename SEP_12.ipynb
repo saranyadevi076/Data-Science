{
  "nbformat": 4,
  "nbformat_minor": 0,
  "metadata": {
    "colab": {
      "name": "SEP-12.ipynb",
      "provenance": [],
      "collapsed_sections": [],
      "authorship_tag": "ABX9TyODSFDTI3aEWwNAEpvt7hAM",
      "include_colab_link": true
    },
    "kernelspec": {
      "name": "python3",
      "display_name": "Python 3"
    },
    "language_info": {
      "name": "python"
    }
  },
  "cells": [
    {
      "cell_type": "markdown",
      "metadata": {
        "id": "view-in-github",
        "colab_type": "text"
      },
      "source": [
        "<a href=\"https://colab.research.google.com/github/saranyadevi076/Data-Science/blob/main/SEP_12.ipynb\" target=\"_parent\"><img src=\"https://colab.research.google.com/assets/colab-badge.svg\" alt=\"Open In Colab\"/></a>"
      ]
    },
    {
      "cell_type": "markdown",
      "metadata": {
        "id": "uRIlMuQMoDvc"
      },
      "source": [
        "\n",
        "\n",
        "```\n",
        "# data type\n",
        "\n",
        "1.   Integer\n",
        "2.   String\n",
        "3.   Float\n",
        "4.   Bool\n",
        "5.   List,tuple,set,frozenset\n",
        "6.   Dict\n",
        "7.   complex \n",
        "\n",
        "List\n",
        "List is the ordered sequence items,can be mutable(changeable while run time)\n",
        "allows duplicate, most used data type in phyton, it can use any data types(Heterogenus) , lIST USE [] square brackets\n",
        "```\n",
        "\n"
      ]
    },
    {
      "cell_type": "code",
      "metadata": {
        "id": "4CoRV5zyofxB",
        "colab": {
          "base_uri": "https://localhost:8080/"
        },
        "outputId": "61d5ed28-5b60-4a7b-fff8-b440710a45c8"
      },
      "source": [
        "##LIST EXAMPLES\n",
        "list1=[\"apple\",\"orange\",\"kiwi\",\"cherry\"]\n",
        "list1"
      ],
      "execution_count": 1,
      "outputs": [
        {
          "output_type": "execute_result",
          "data": {
            "text/plain": [
              "['apple', 'orange', 'kiwi', 'cherry']"
            ]
          },
          "metadata": {},
          "execution_count": 1
        }
      ]
    },
    {
      "cell_type": "code",
      "metadata": {
        "colab": {
          "base_uri": "https://localhost:8080/"
        },
        "id": "L4b_1rKT5Zs6",
        "outputId": "959fca59-0f2c-464c-cb6b-9dabc9df8573"
      },
      "source": [
        "list2=[1,2,3,4,5]\n",
        "list2"
      ],
      "execution_count": 2,
      "outputs": [
        {
          "output_type": "execute_result",
          "data": {
            "text/plain": [
              "[1, 2, 3, 4, 5]"
            ]
          },
          "metadata": {},
          "execution_count": 2
        }
      ]
    },
    {
      "cell_type": "code",
      "metadata": {
        "colab": {
          "base_uri": "https://localhost:8080/"
        },
        "id": "0K-eZf5y5frq",
        "outputId": "2f9e122e-8126-46d7-e7ae-d0b6eba242b5"
      },
      "source": [
        "list3=[1.5,2.3,3.3]\n",
        "list3"
      ],
      "execution_count": 3,
      "outputs": [
        {
          "output_type": "execute_result",
          "data": {
            "text/plain": [
              "[1.5, 2.3, 3.3]"
            ]
          },
          "metadata": {},
          "execution_count": 3
        }
      ]
    },
    {
      "cell_type": "code",
      "metadata": {
        "colab": {
          "base_uri": "https://localhost:8080/"
        },
        "id": "vJ_wJsnw5mv0",
        "outputId": "94d29122-a59d-4756-a0bc-7101a6854f5c"
      },
      "source": [
        "list4=[1+4j]\n",
        "list4"
      ],
      "execution_count": 6,
      "outputs": [
        {
          "output_type": "execute_result",
          "data": {
            "text/plain": [
              "[(1+4j)]"
            ]
          },
          "metadata": {},
          "execution_count": 6
        }
      ]
    },
    {
      "cell_type": "code",
      "metadata": {
        "colab": {
          "base_uri": "https://localhost:8080/"
        },
        "id": "h30qGWWK5u8k",
        "outputId": "302230ba-8562-4e78-f4f8-b4d8df364e61"
      },
      "source": [
        "list5 = [6,9.5,\"hello\",1+6j] ##Heterogenus \n",
        "list5"
      ],
      "execution_count": 7,
      "outputs": [
        {
          "output_type": "execute_result",
          "data": {
            "text/plain": [
              "[6, 9.5, 'hello', (1+6j)]"
            ]
          },
          "metadata": {},
          "execution_count": 7
        }
      ]
    },
    {
      "cell_type": "code",
      "metadata": {
        "colab": {
          "base_uri": "https://localhost:8080/"
        },
        "id": "zHHMe-y357jz",
        "outputId": "a124730c-cda1-4866-a485-c42b5c135426"
      },
      "source": [
        "### List indexing starts from 0\n",
        "list5[0],list5[1],list5[2]"
      ],
      "execution_count": 10,
      "outputs": [
        {
          "output_type": "execute_result",
          "data": {
            "text/plain": [
              "(6, 9.5, 'hello')"
            ]
          },
          "metadata": {},
          "execution_count": 10
        }
      ]
    },
    {
      "cell_type": "code",
      "metadata": {
        "colab": {
          "base_uri": "https://localhost:8080/"
        },
        "id": "hbNqJK8K6JUx",
        "outputId": "5ec3585c-0cd7-48c5-e8ba-ef3a49a336aa"
      },
      "source": [
        "### Mutable\n",
        "list5[2]=\"saranya\"\n",
        "list5"
      ],
      "execution_count": 11,
      "outputs": [
        {
          "output_type": "execute_result",
          "data": {
            "text/plain": [
              "[6, 9.5, 'saranya', (1+6j)]"
            ]
          },
          "metadata": {},
          "execution_count": 11
        }
      ]
    },
    {
      "cell_type": "code",
      "metadata": {
        "colab": {
          "base_uri": "https://localhost:8080/"
        },
        "id": "T6Cq5vU56X3O",
        "outputId": "b9956e09-c61d-4120-acab-77cf33984045"
      },
      "source": [
        "print(\"list1\",list1)"
      ],
      "execution_count": 12,
      "outputs": [
        {
          "output_type": "stream",
          "name": "stdout",
          "text": [
            "list1 ['apple', 'orange', 'kiwi', 'cherry']\n"
          ]
        }
      ]
    },
    {
      "cell_type": "code",
      "metadata": {
        "colab": {
          "base_uri": "https://localhost:8080/"
        },
        "id": "0_WikXoW7zkt",
        "outputId": "a72dc34e-927a-4914-ec25-9826940ac111"
      },
      "source": [
        "list5.reverse()   ### list will be reversed\n",
        "list5"
      ],
      "execution_count": 15,
      "outputs": [
        {
          "output_type": "execute_result",
          "data": {
            "text/plain": [
              "[(1+6j), 'saranya', 9.5, 6]"
            ]
          },
          "metadata": {},
          "execution_count": 15
        }
      ]
    },
    {
      "cell_type": "markdown",
      "metadata": {
        "id": "rniM87EE80aM"
      },
      "source": [
        "##indexing and slicing\n",
        "Index start from 0,1,2.....\n",
        "Negative index start from -1,-2,-3.... (\n",
        "  ## Slicing \n",
        "  Enables accessing parts of sequences like strings,tuples and list"
      ]
    },
    {
      "cell_type": "code",
      "metadata": {
        "colab": {
          "base_uri": "https://localhost:8080/",
          "height": 35
        },
        "id": "A1oF3NZ29d59",
        "outputId": "7657824d-06b0-4cd6-ab6a-0a5d00f44f73"
      },
      "source": [
        "##Indexing\n",
        "list1[3]"
      ],
      "execution_count": 16,
      "outputs": [
        {
          "output_type": "execute_result",
          "data": {
            "application/vnd.google.colaboratory.intrinsic+json": {
              "type": "string"
            },
            "text/plain": [
              "'cherry'"
            ]
          },
          "metadata": {},
          "execution_count": 16
        }
      ]
    },
    {
      "cell_type": "code",
      "metadata": {
        "colab": {
          "base_uri": "https://localhost:8080/"
        },
        "id": "_JI1AbMW9kFp",
        "outputId": "d71a41bc-df01-4da3-f90f-8d069571e044"
      },
      "source": [
        "list5[-2]  ### negative indexing start from -1(from backwards)"
      ],
      "execution_count": 18,
      "outputs": [
        {
          "output_type": "execute_result",
          "data": {
            "text/plain": [
              "9.5"
            ]
          },
          "metadata": {},
          "execution_count": 18
        }
      ]
    },
    {
      "cell_type": "code",
      "metadata": {
        "colab": {
          "base_uri": "https://localhost:8080/"
        },
        "id": "NyFDrqTJ9mNr",
        "outputId": "48b4ab3f-515b-4bed-e190-bbcc0f4b1eee"
      },
      "source": [
        "list5[0:]  ## 0: means fetch all data from list   ##### slicing"
      ],
      "execution_count": 28,
      "outputs": [
        {
          "output_type": "execute_result",
          "data": {
            "text/plain": [
              "[(1+6j), 'saranya', 9.5, 6]"
            ]
          },
          "metadata": {},
          "execution_count": 28
        }
      ]
    },
    {
      "cell_type": "code",
      "metadata": {
        "colab": {
          "base_uri": "https://localhost:8080/"
        },
        "id": "cxaWnU1E-HBG",
        "outputId": "778d4fb1-a408-4d39-fbe9-9d7458156b12"
      },
      "source": [
        "list6=[1,2,'a','sd','sk']  ## 4 is excluded \n",
        "list6[1:4]"
      ],
      "execution_count": 25,
      "outputs": [
        {
          "output_type": "execute_result",
          "data": {
            "text/plain": [
              "[2, 'a', 'sd']"
            ]
          },
          "metadata": {},
          "execution_count": 25
        }
      ]
    },
    {
      "cell_type": "code",
      "metadata": {
        "colab": {
          "base_uri": "https://localhost:8080/"
        },
        "id": "UQufEmTQ_rS2",
        "outputId": "2c4bf746-3b9c-4037-d5e2-23441cd10f7b"
      },
      "source": [
        "list7=[\"p\",\"y\",\"t\",\"h\",\"o\",\"n\"]\n",
        "list7\n"
      ],
      "execution_count": 29,
      "outputs": [
        {
          "output_type": "execute_result",
          "data": {
            "text/plain": [
              "['p', 'y', 't', 'h', 'o', 'n']"
            ]
          },
          "metadata": {},
          "execution_count": 29
        }
      ]
    },
    {
      "cell_type": "code",
      "metadata": {
        "colab": {
          "base_uri": "https://localhost:8080/"
        },
        "id": "fh0T3gIY_0Bs",
        "outputId": "252a9926-46e5-44e3-b4aa-3b8bc56f595e"
      },
      "source": [
        "list7[0:]"
      ],
      "execution_count": 30,
      "outputs": [
        {
          "output_type": "execute_result",
          "data": {
            "text/plain": [
              "['p', 'y', 't', 'h', 'o', 'n']"
            ]
          },
          "metadata": {},
          "execution_count": 30
        }
      ]
    },
    {
      "cell_type": "code",
      "metadata": {
        "colab": {
          "base_uri": "https://localhost:8080/"
        },
        "id": "R-LoFsFe_40H",
        "outputId": "53e65a7b-e99b-43db-baec-f80d975cf85d"
      },
      "source": [
        "list7[1:5]"
      ],
      "execution_count": 34,
      "outputs": [
        {
          "output_type": "execute_result",
          "data": {
            "text/plain": [
              "['y', 't', 'h', 'o']"
            ]
          },
          "metadata": {},
          "execution_count": 34
        }
      ]
    },
    {
      "cell_type": "code",
      "metadata": {
        "colab": {
          "base_uri": "https://localhost:8080/"
        },
        "id": "ELZiww4ZAMbO",
        "outputId": "e6c25d7f-c03b-445b-8c6e-027f9d779661"
      },
      "source": [
        "list7[-6:]"
      ],
      "execution_count": 37,
      "outputs": [
        {
          "output_type": "execute_result",
          "data": {
            "text/plain": [
              "['p', 'y', 't', 'h', 'o', 'n']"
            ]
          },
          "metadata": {},
          "execution_count": 37
        }
      ]
    },
    {
      "cell_type": "code",
      "metadata": {
        "colab": {
          "base_uri": "https://localhost:8080/"
        },
        "id": "DQTVtRoJASib",
        "outputId": "b1a1a9fb-c271-4aeb-ec59-92990409c480"
      },
      "source": [
        "list7[-1:]"
      ],
      "execution_count": 38,
      "outputs": [
        {
          "output_type": "execute_result",
          "data": {
            "text/plain": [
              "['n']"
            ]
          },
          "metadata": {},
          "execution_count": 38
        }
      ]
    },
    {
      "cell_type": "code",
      "metadata": {
        "colab": {
          "base_uri": "https://localhost:8080/"
        },
        "id": "H1h-UN-RAlHk",
        "outputId": "c7ae3593-246b-42fc-8132-1fadd47cbe95"
      },
      "source": [
        "list7[-6:3]"
      ],
      "execution_count": 39,
      "outputs": [
        {
          "output_type": "execute_result",
          "data": {
            "text/plain": [
              "['p', 'y', 't']"
            ]
          },
          "metadata": {},
          "execution_count": 39
        }
      ]
    }
  ]
}
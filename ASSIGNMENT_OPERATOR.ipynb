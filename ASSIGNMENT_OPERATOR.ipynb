{
  "nbformat": 4,
  "nbformat_minor": 0,
  "metadata": {
    "colab": {
      "name": "ASSIGNMENT OPERATOR.ipynb",
      "provenance": [],
      "collapsed_sections": [],
      "authorship_tag": "ABX9TyOs5gaMncLXG04L6I5eU5WN",
      "include_colab_link": true
    },
    "kernelspec": {
      "name": "python3",
      "display_name": "Python 3"
    },
    "language_info": {
      "name": "python"
    }
  },
  "cells": [
    {
      "cell_type": "markdown",
      "metadata": {
        "id": "view-in-github",
        "colab_type": "text"
      },
      "source": [
        "<a href=\"https://colab.research.google.com/github/saranyadevi076/Data-Science/blob/main/ASSIGNMENT_OPERATOR.ipynb\" target=\"_parent\"><img src=\"https://colab.research.google.com/assets/colab-badge.svg\" alt=\"Open In Colab\"/></a>"
      ]
    },
    {
      "cell_type": "code",
      "metadata": {
        "colab": {
          "base_uri": "https://localhost:8080/"
        },
        "id": "55HEsk14Z_n2",
        "outputId": "8411815c-7dc8-41af-b837-e99b48078803"
      },
      "source": [
        "x=5\n",
        "print(x)\n"
      ],
      "execution_count": 1,
      "outputs": [
        {
          "output_type": "stream",
          "name": "stdout",
          "text": [
            "5\n"
          ]
        }
      ]
    },
    {
      "cell_type": "code",
      "metadata": {
        "colab": {
          "base_uri": "https://localhost:8080/"
        },
        "id": "iNjd-or4aHfn",
        "outputId": "190d2ef3-b7f2-4981-aae7-c5c0e38e8477"
      },
      "source": [
        "x=5\n",
        "x+=3\n",
        "print(x)"
      ],
      "execution_count": 4,
      "outputs": [
        {
          "output_type": "stream",
          "name": "stdout",
          "text": [
            "8\n"
          ]
        }
      ]
    },
    {
      "cell_type": "code",
      "metadata": {
        "colab": {
          "base_uri": "https://localhost:8080/"
        },
        "id": "mb_jwLGgaOs8",
        "outputId": "659f4f50-8194-4db7-dc88-cdf355769b9d"
      },
      "source": [
        "x=5\n",
        "x-=3\n",
        "print(x)\n"
      ],
      "execution_count": 5,
      "outputs": [
        {
          "output_type": "stream",
          "name": "stdout",
          "text": [
            "2\n"
          ]
        }
      ]
    },
    {
      "cell_type": "code",
      "metadata": {
        "colab": {
          "base_uri": "https://localhost:8080/"
        },
        "id": "PMdlX7OPaohj",
        "outputId": "d7b6e23a-2929-4adc-df01-9849ea0807d5"
      },
      "source": [
        "x=5\n",
        "x*=3\n",
        "print(x)"
      ],
      "execution_count": 6,
      "outputs": [
        {
          "output_type": "stream",
          "name": "stdout",
          "text": [
            "15\n"
          ]
        }
      ]
    },
    {
      "cell_type": "code",
      "metadata": {
        "colab": {
          "base_uri": "https://localhost:8080/"
        },
        "id": "yUnjsuyZasqe",
        "outputId": "a8a4c459-7dae-4c72-f369-bb433833ac89"
      },
      "source": [
        "x=5\n",
        "x/=3\n",
        "print(x)"
      ],
      "execution_count": 7,
      "outputs": [
        {
          "output_type": "stream",
          "name": "stdout",
          "text": [
            "1.6666666666666667\n"
          ]
        }
      ]
    },
    {
      "cell_type": "code",
      "metadata": {
        "colab": {
          "base_uri": "https://localhost:8080/"
        },
        "id": "EjJWbrXwa0oi",
        "outputId": "b5db9949-bd54-416b-b94a-1db1c202c072"
      },
      "source": [
        "x=5  ### gives the remainder\n",
        "x%=3\n",
        "print(x)"
      ],
      "execution_count": 8,
      "outputs": [
        {
          "output_type": "stream",
          "name": "stdout",
          "text": [
            "2\n"
          ]
        }
      ]
    },
    {
      "cell_type": "code",
      "metadata": {
        "colab": {
          "base_uri": "https://localhost:8080/"
        },
        "id": "ojD08SxOa6xU",
        "outputId": "e6ce730d-340a-4778-e4ef-c72e42bde26c"
      },
      "source": [
        "x=30  #### gives the quotient\n",
        "x//=3\n",
        "print(x)"
      ],
      "execution_count": 9,
      "outputs": [
        {
          "output_type": "stream",
          "name": "stdout",
          "text": [
            "10\n"
          ]
        }
      ]
    },
    {
      "cell_type": "code",
      "metadata": {
        "colab": {
          "base_uri": "https://localhost:8080/"
        },
        "id": "seb_3rpFbAYF",
        "outputId": "d98d3549-1b12-47d9-ecc6-307be1d80da5"
      },
      "source": [
        "x=2\n",
        "x**=3  ### 2*2*2\n",
        "print(x)\n"
      ],
      "execution_count": 10,
      "outputs": [
        {
          "output_type": "stream",
          "name": "stdout",
          "text": [
            "8\n"
          ]
        }
      ]
    },
    {
      "cell_type": "code",
      "metadata": {
        "colab": {
          "base_uri": "https://localhost:8080/"
        },
        "id": "VOsIrv66bQbN",
        "outputId": "7bb22226-5743-41e3-9ab9-adc8fb15acf8"
      },
      "source": [
        "x=5\n",
        "x&=4\n",
        "\n",
        "print(x)"
      ],
      "execution_count": 12,
      "outputs": [
        {
          "output_type": "stream",
          "name": "stdout",
          "text": [
            "4\n"
          ]
        }
      ]
    },
    {
      "cell_type": "code",
      "metadata": {
        "colab": {
          "base_uri": "https://localhost:8080/"
        },
        "id": "vsEhtvs3cJsN",
        "outputId": "c068ef67-41d8-4466-f0e4-3676b42a085e"
      },
      "source": [
        "x=5\n",
        "x|=3\n",
        "print(x)"
      ],
      "execution_count": 13,
      "outputs": [
        {
          "output_type": "stream",
          "name": "stdout",
          "text": [
            "7\n"
          ]
        }
      ]
    },
    {
      "cell_type": "code",
      "metadata": {
        "colab": {
          "base_uri": "https://localhost:8080/"
        },
        "id": "Auwvc34mldOE",
        "outputId": "c3f6dd84-0216-4ce4-ce79-1ff8cd73e9b5"
      },
      "source": [
        "x=5\n",
        "x^=3\n",
        "print(x)"
      ],
      "execution_count": 14,
      "outputs": [
        {
          "output_type": "stream",
          "name": "stdout",
          "text": [
            "6\n"
          ]
        }
      ]
    },
    {
      "cell_type": "code",
      "metadata": {
        "colab": {
          "base_uri": "https://localhost:8080/"
        },
        "id": "xC1g82Slln1n",
        "outputId": "d326686a-d4fa-4654-cd5a-87fa34db88bf"
      },
      "source": [
        "x=8\n",
        "x>>=2\n",
        "print(x)"
      ],
      "execution_count": 18,
      "outputs": [
        {
          "output_type": "stream",
          "name": "stdout",
          "text": [
            "2\n"
          ]
        }
      ]
    },
    {
      "cell_type": "code",
      "metadata": {
        "colab": {
          "base_uri": "https://localhost:8080/"
        },
        "id": "tdrGdp2Znw16",
        "outputId": "fb3e2efb-be7c-4180-f23a-044a2a5b5f9d"
      },
      "source": [
        "x=8\n",
        "x<<=1\n",
        "print(x)"
      ],
      "execution_count": 21,
      "outputs": [
        {
          "output_type": "stream",
          "name": "stdout",
          "text": [
            "16\n"
          ]
        }
      ]
    },
    {
      "cell_type": "code",
      "metadata": {
        "colab": {
          "base_uri": "https://localhost:8080/"
        },
        "id": "rB421FFvq_Z_",
        "outputId": "e1829920-e88a-402b-c50f-9495a906c879"
      },
      "source": [
        "x=5\n",
        "x<<=2\n",
        "print(x)"
      ],
      "execution_count": 23,
      "outputs": [
        {
          "output_type": "stream",
          "name": "stdout",
          "text": [
            "20\n"
          ]
        }
      ]
    }
  ]
}
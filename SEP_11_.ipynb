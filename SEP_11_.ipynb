{
  "nbformat": 4,
  "nbformat_minor": 0,
  "metadata": {
    "colab": {
      "name": "SEP-11-.ipynb",
      "provenance": [],
      "collapsed_sections": [],
      "authorship_tag": "ABX9TyNKNRR8s1omCc0YP7zYlL6Y",
      "include_colab_link": true
    },
    "kernelspec": {
      "name": "python3",
      "display_name": "Python 3"
    },
    "language_info": {
      "name": "python"
    }
  },
  "cells": [
    {
      "cell_type": "markdown",
      "metadata": {
        "id": "view-in-github",
        "colab_type": "text"
      },
      "source": [
        "<a href=\"https://colab.research.google.com/github/saranyadevi076/Data-Science/blob/main/SEP_11_.ipynb\" target=\"_parent\"><img src=\"https://colab.research.google.com/assets/colab-badge.svg\" alt=\"Open In Colab\"/></a>"
      ]
    },
    {
      "cell_type": "code",
      "metadata": {
        "id": "G57CE_kMsGcM"
      },
      "source": [
        "#### Escape character back slash \\"
      ],
      "execution_count": null,
      "outputs": []
    },
    {
      "cell_type": "code",
      "metadata": {
        "colab": {
          "base_uri": "https://localhost:8080/",
          "height": 129
        },
        "id": "vj1qt9jzsUaj",
        "outputId": "de954c0a-b12e-44a4-8406-415a5793c168"
      },
      "source": [
        "intro = \"This is lisha\"s bag\"\n",
        "print(intro)"
      ],
      "execution_count": 1,
      "outputs": [
        {
          "output_type": "error",
          "ename": "SyntaxError",
          "evalue": "ignored",
          "traceback": [
            "\u001b[0;36m  File \u001b[0;32m\"<ipython-input-1-8a2526dd9cde>\"\u001b[0;36m, line \u001b[0;32m1\u001b[0m\n\u001b[0;31m    intro = \"This is lisha\"s bag\"\u001b[0m\n\u001b[0m                           ^\u001b[0m\n\u001b[0;31mSyntaxError\u001b[0m\u001b[0;31m:\u001b[0m invalid syntax\n"
          ]
        }
      ]
    },
    {
      "cell_type": "code",
      "metadata": {
        "colab": {
          "base_uri": "https://localhost:8080/"
        },
        "id": "Inh5hfI5sbK1",
        "outputId": "f089461d-25e2-4e13-bca2-d4c316dffe00"
      },
      "source": [
        "intro=\"This is liya\\\"s bag\"  #### Used the \\ back slash for \" use\n",
        "print(intro)"
      ],
      "execution_count": 2,
      "outputs": [
        {
          "output_type": "stream",
          "name": "stdout",
          "text": [
            "This is liya\"s bag\n"
          ]
        }
      ]
    },
    {
      "cell_type": "code",
      "metadata": {
        "colab": {
          "base_uri": "https://localhost:8080/"
        },
        "id": "i1rXJDuKtNIE",
        "outputId": "204d07df-3891-49fb-f6e2-bce51d3c3d96"
      },
      "source": [
        "### \\n code with print in next line\n",
        "text=\"hey mom \\n i am on the way\"\n",
        "print(text)"
      ],
      "execution_count": 3,
      "outputs": [
        {
          "output_type": "stream",
          "name": "stdout",
          "text": [
            "hey mom \n",
            " i am on the way\n"
          ]
        }
      ]
    },
    {
      "cell_type": "code",
      "metadata": {
        "colab": {
          "base_uri": "https://localhost:8080/"
        },
        "id": "KQC-X-rCtkZi",
        "outputId": "af25c6f1-14bf-4560-af41-0a39cbfb7e5a"
      },
      "source": [
        "####\\t new tab space\n",
        "text=\"hey mom \\t i am on the way\"\n",
        "print(text) "
      ],
      "execution_count": 4,
      "outputs": [
        {
          "output_type": "stream",
          "name": "stdout",
          "text": [
            "hey mom \t i am on the way\n"
          ]
        }
      ]
    },
    {
      "cell_type": "code",
      "metadata": {
        "colab": {
          "base_uri": "https://localhost:8080/"
        },
        "id": "FpDPM1AbvKwt",
        "outputId": "39134ed2-b9c0-4725-d63f-03e45100a6b4"
      },
      "source": [
        "text=\"hey mom \\t i am on \\t the way\"\n",
        "print(text)"
      ],
      "execution_count": 5,
      "outputs": [
        {
          "output_type": "stream",
          "name": "stdout",
          "text": [
            "hey mom \t i am on \t the way\n"
          ]
        }
      ]
    },
    {
      "cell_type": "markdown",
      "metadata": {
        "id": "vRjH77WWvWrs"
      },
      "source": [
        "Format Speicifier \n",
        "It is used during input and output\n",
        "Its the way to tell compiler what type of data in variable during taking the input from print()\n",
        "%s specifies string\n",
        "%d specifies integer"
      ]
    },
    {
      "cell_type": "code",
      "metadata": {
        "colab": {
          "base_uri": "https://localhost:8080/"
        },
        "id": "JF7cns_EwNL2",
        "outputId": "dcfe0686-b8a3-4b94-b1c6-766e247bbf39"
      },
      "source": [
        "name = \"saranya\"\n",
        "print (\"hi %s\"  % name)"
      ],
      "execution_count": 7,
      "outputs": [
        {
          "output_type": "stream",
          "name": "stdout",
          "text": [
            "hi saranya\n"
          ]
        }
      ]
    },
    {
      "cell_type": "code",
      "metadata": {
        "colab": {
          "base_uri": "https://localhost:8080/"
        },
        "id": "EAat5_1kw4dL",
        "outputId": "0d744e36-9ff9-493c-b64a-a4a4080686ac"
      },
      "source": [
        "name =\"saranya\"\n",
        "age = 20\n",
        "print ( \"%s age is %d\" %(name , age))"
      ],
      "execution_count": 9,
      "outputs": [
        {
          "output_type": "stream",
          "name": "stdout",
          "text": [
            "saranya age is 20\n"
          ]
        }
      ]
    },
    {
      "cell_type": "code",
      "metadata": {
        "id": "jT7LAr9rx-X0"
      },
      "source": [
        "\n"
      ],
      "execution_count": null,
      "outputs": []
    }
  ]
}
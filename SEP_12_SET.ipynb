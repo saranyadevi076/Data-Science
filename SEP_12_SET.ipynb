{
  "nbformat": 4,
  "nbformat_minor": 0,
  "metadata": {
    "colab": {
      "name": "SEP-12-SET.ipynb",
      "provenance": [],
      "collapsed_sections": [],
      "authorship_tag": "ABX9TyNAmlMhSVG3FbIzHVUuzoGq",
      "include_colab_link": true
    },
    "kernelspec": {
      "name": "python3",
      "display_name": "Python 3"
    },
    "language_info": {
      "name": "python"
    }
  },
  "cells": [
    {
      "cell_type": "markdown",
      "metadata": {
        "id": "view-in-github",
        "colab_type": "text"
      },
      "source": [
        "<a href=\"https://colab.research.google.com/github/saranyadevi076/Data-Science/blob/main/SEP_12_SET.ipynb\" target=\"_parent\"><img src=\"https://colab.research.google.com/assets/colab-badge.svg\" alt=\"Open In Colab\"/></a>"
      ]
    },
    {
      "cell_type": "markdown",
      "metadata": {
        "id": "lrdxKV42liGs"
      },
      "source": [
        "\n",
        "#### SET\n",
        "1. Add heterogenus\n",
        "2.Doesnt allow duplicates\n",
        "3.cannot access using index\n",
        "4.mutable only with element not with index\n",
        "\n",
        "\n",
        "\n"
      ]
    },
    {
      "cell_type": "code",
      "metadata": {
        "id": "5gd87hRUnupC"
      },
      "source": [
        ""
      ],
      "execution_count": null,
      "outputs": []
    },
    {
      "cell_type": "code",
      "metadata": {
        "colab": {
          "base_uri": "https://localhost:8080/"
        },
        "id": "4FluhHztlzHF",
        "outputId": "288fbe22-4efb-4e59-e29d-5efa6f6ffd3b"
      },
      "source": [
        "set1={43,1,20,30,50,90,100,\"hi\",66,66,\"saranya\"}\n",
        "type(set1)"
      ],
      "execution_count": 1,
      "outputs": [
        {
          "output_type": "execute_result",
          "data": {
            "text/plain": [
              "set"
            ]
          },
          "metadata": {},
          "execution_count": 1
        }
      ]
    },
    {
      "cell_type": "code",
      "metadata": {
        "colab": {
          "base_uri": "https://localhost:8080/"
        },
        "id": "ObhxqAromP20",
        "outputId": "5fa49bee-959b-4b34-d6a7-4e9fecc22c10"
      },
      "source": [
        "print(set1)  ## Removing the duplicates and considering the 1st place and ordering the elements"
      ],
      "execution_count": 2,
      "outputs": [
        {
          "output_type": "stream",
          "name": "stdout",
          "text": [
            "{1, 66, 100, 43, 'hi', 50, 20, 'saranya', 90, 30}\n"
          ]
        }
      ]
    },
    {
      "cell_type": "code",
      "metadata": {
        "id": "TPa4GkQemR3_"
      },
      "source": [
        "set1  #### considering the 1st place and ordering the elements"
      ],
      "execution_count": null,
      "outputs": []
    },
    {
      "cell_type": "code",
      "metadata": {
        "colab": {
          "base_uri": "https://localhost:8080/",
          "height": 163
        },
        "id": "lPI_jsEjmysV",
        "outputId": "062cebbc-9f3b-4a5c-d4fd-6327935cfd46"
      },
      "source": [
        "set1[3]  ### Set object not subscriptable[] , we cant access it using index"
      ],
      "execution_count": 4,
      "outputs": [
        {
          "output_type": "error",
          "ename": "TypeError",
          "evalue": "ignored",
          "traceback": [
            "\u001b[0;31m---------------------------------------------------------------------------\u001b[0m",
            "\u001b[0;31mTypeError\u001b[0m                                 Traceback (most recent call last)",
            "\u001b[0;32m<ipython-input-4-e55e1a68b39b>\u001b[0m in \u001b[0;36m<module>\u001b[0;34m()\u001b[0m\n\u001b[0;32m----> 1\u001b[0;31m \u001b[0mset1\u001b[0m\u001b[0;34m[\u001b[0m\u001b[0;36m3\u001b[0m\u001b[0;34m]\u001b[0m\u001b[0;34m\u001b[0m\u001b[0;34m\u001b[0m\u001b[0m\n\u001b[0m",
            "\u001b[0;31mTypeError\u001b[0m: 'set' object is not subscriptable"
          ]
        }
      ]
    },
    {
      "cell_type": "code",
      "metadata": {
        "colab": {
          "base_uri": "https://localhost:8080/"
        },
        "id": "f25c1W_pm9BU",
        "outputId": "fc15502e-dbd7-469e-80c9-12a82fb18a6f"
      },
      "source": [
        "set2={80,50,40,30,20,10}  ### with respect to the  element we can mutable, using index cant be mutable\n",
        "set2.remove(50)\n",
        "set2"
      ],
      "execution_count": 8,
      "outputs": [
        {
          "output_type": "execute_result",
          "data": {
            "text/plain": [
              "{10, 20, 30, 40, 80}"
            ]
          },
          "metadata": {},
          "execution_count": 8
        }
      ]
    }
  ]
}